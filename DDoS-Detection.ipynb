{
 "cells": [
  {
   "metadata": {},
   "cell_type": "markdown",
   "source": " LOADING THE DATA",
   "id": "70c39f46c9b97e30"
  },
  {
   "metadata": {
    "ExecuteTime": {
     "end_time": "2025-03-19T13:17:31.264942Z",
     "start_time": "2025-03-19T13:17:30.970023Z"
    }
   },
   "cell_type": "code",
   "source": [
    "import pandas as pd\n",
    "\n",
    "# File paths on your Desktop\n",
    "train_file_path = '/Users/arshita/Desktop/UNSW_NB15_training-set.parquet'\n",
    "test_file_path = '/Users/arshita/Desktop/UNSW_NB15_testing-set.parquet'\n",
    "\n",
    "# Load the training dataset (Parquet format)\n",
    "train_data = pd.read_parquet(train_file_path)\n",
    "\n",
    "# Load the testing dataset (Parquet format)\n",
    "test_data = pd.read_parquet(test_file_path)\n",
    "\n",
    "# Display the first few rows of the training data to confirm it's loaded\n",
    "print(\"Training Data:\")\n",
    "print(train_data.head())\n",
    "\n",
    "# Display the first few rows of the testing data to confirm it's loaded\n",
    "print(\"Testing Data:\")\n",
    "print(test_data.head())\n"
   ],
   "id": "3f9160ebea4deb1",
   "outputs": [
    {
     "name": "stdout",
     "output_type": "stream",
     "text": [
      "Training Data:\n",
      "        dur proto service state  spkts  dpkts  sbytes  dbytes       rate  \\\n",
      "0  0.121478   tcp       -   FIN      6      4     258     172  74.087486   \n",
      "1  0.649902   tcp       -   FIN     14     38     734   42014  78.473373   \n",
      "2  1.623129   tcp       -   FIN      8     16     364   13186  14.170161   \n",
      "3  1.681642   tcp     ftp   FIN     12     12     628     770  13.677108   \n",
      "4  0.449454   tcp       -   FIN     10      6     534     268  33.373825   \n",
      "\n",
      "          sload  ...  trans_depth  response_body_len  ct_src_dport_ltm  \\\n",
      "0  14158.942383  ...            0                  0                 1   \n",
      "1   8395.112305  ...            0                  0                 1   \n",
      "2   1572.271851  ...            0                  0                 1   \n",
      "3   2740.178955  ...            0                  0                 1   \n",
      "4   8561.499023  ...            0                  0                 2   \n",
      "\n",
      "   ct_dst_sport_ltm  is_ftp_login  ct_ftp_cmd  ct_flw_http_mthd  \\\n",
      "0                 1             0           0                 0   \n",
      "1                 1             0           0                 0   \n",
      "2                 1             0           0                 0   \n",
      "3                 1             1           1                 0   \n",
      "4                 1             0           0                 0   \n",
      "\n",
      "   is_sm_ips_ports  attack_cat  label  \n",
      "0                0      Normal      0  \n",
      "1                0      Normal      0  \n",
      "2                0      Normal      0  \n",
      "3                0      Normal      0  \n",
      "4                0      Normal      0  \n",
      "\n",
      "[5 rows x 36 columns]\n",
      "Testing Data:\n",
      "        dur proto service state  spkts  dpkts  sbytes  dbytes          rate  \\\n",
      "0  0.000011   udp       -   INT      2      0     496       0   90909.09375   \n",
      "1  0.000008   udp       -   INT      2      0    1762       0  125000.00000   \n",
      "2  0.000005   udp       -   INT      2      0    1068       0  200000.00000   \n",
      "3  0.000006   udp       -   INT      2      0     900       0  166666.65625   \n",
      "4  0.000010   udp       -   INT      2      0    2126       0  100000.00000   \n",
      "\n",
      "         sload  ...  trans_depth  response_body_len  ct_src_dport_ltm  \\\n",
      "0  180363632.0  ...            0                  0                 1   \n",
      "1  881000000.0  ...            0                  0                 1   \n",
      "2  854400000.0  ...            0                  0                 1   \n",
      "3  600000000.0  ...            0                  0                 2   \n",
      "4  850400000.0  ...            0                  0                 2   \n",
      "\n",
      "   ct_dst_sport_ltm  is_ftp_login  ct_ftp_cmd  ct_flw_http_mthd  \\\n",
      "0                 1             0           0                 0   \n",
      "1                 1             0           0                 0   \n",
      "2                 1             0           0                 0   \n",
      "3                 1             0           0                 0   \n",
      "4                 1             0           0                 0   \n",
      "\n",
      "   is_sm_ips_ports  attack_cat  label  \n",
      "0                0      Normal      0  \n",
      "1                0      Normal      0  \n",
      "2                0      Normal      0  \n",
      "3                0      Normal      0  \n",
      "4                0      Normal      0  \n",
      "\n",
      "[5 rows x 36 columns]\n"
     ]
    }
   ],
   "execution_count": 3
  },
  {
   "metadata": {
    "ExecuteTime": {
     "end_time": "2025-03-19T13:23:04.801938Z",
     "start_time": "2025-03-19T13:23:04.759604Z"
    }
   },
   "cell_type": "code",
   "source": [
    "# Check for missing values\n",
    "print(\"Missing values in training data:\")\n",
    "print(train_data.isnull().sum())\n",
    "\n",
    "# Check for missing values in testing data\n",
    "print(\"Missing values in testing data:\")\n",
    "print(test_data.isnull().sum())\n",
    "\n",
    "# You can drop rows with missing values (if any)\n",
    "train_data = train_data.dropna()\n",
    "test_data = test_data.dropna()\n"
   ],
   "id": "68c689d37024399",
   "outputs": [
    {
     "name": "stdout",
     "output_type": "stream",
     "text": [
      "Missing values in training data:\n",
      "dur                  0\n",
      "proto                0\n",
      "service              0\n",
      "state                0\n",
      "spkts                0\n",
      "dpkts                0\n",
      "sbytes               0\n",
      "dbytes               0\n",
      "rate                 0\n",
      "sload                0\n",
      "dload                0\n",
      "sloss                0\n",
      "dloss                0\n",
      "sinpkt               0\n",
      "dinpkt               0\n",
      "sjit                 0\n",
      "djit                 0\n",
      "swin                 0\n",
      "stcpb                0\n",
      "dtcpb                0\n",
      "dwin                 0\n",
      "tcprtt               0\n",
      "synack               0\n",
      "ackdat               0\n",
      "smean                0\n",
      "dmean                0\n",
      "trans_depth          0\n",
      "response_body_len    0\n",
      "ct_src_dport_ltm     0\n",
      "ct_dst_sport_ltm     0\n",
      "is_ftp_login         0\n",
      "ct_ftp_cmd           0\n",
      "ct_flw_http_mthd     0\n",
      "is_sm_ips_ports      0\n",
      "attack_cat           0\n",
      "label                0\n",
      "dtype: int64\n",
      "Missing values in testing data:\n",
      "dur                  0\n",
      "proto                0\n",
      "service              0\n",
      "state                0\n",
      "spkts                0\n",
      "dpkts                0\n",
      "sbytes               0\n",
      "dbytes               0\n",
      "rate                 0\n",
      "sload                0\n",
      "dload                0\n",
      "sloss                0\n",
      "dloss                0\n",
      "sinpkt               0\n",
      "dinpkt               0\n",
      "sjit                 0\n",
      "djit                 0\n",
      "swin                 0\n",
      "stcpb                0\n",
      "dtcpb                0\n",
      "dwin                 0\n",
      "tcprtt               0\n",
      "synack               0\n",
      "ackdat               0\n",
      "smean                0\n",
      "dmean                0\n",
      "trans_depth          0\n",
      "response_body_len    0\n",
      "ct_src_dport_ltm     0\n",
      "ct_dst_sport_ltm     0\n",
      "is_ftp_login         0\n",
      "ct_ftp_cmd           0\n",
      "ct_flw_http_mthd     0\n",
      "is_sm_ips_ports      0\n",
      "attack_cat           0\n",
      "label                0\n",
      "dtype: int64\n"
     ]
    }
   ],
   "execution_count": 5
  },
  {
   "metadata": {
    "ExecuteTime": {
     "end_time": "2025-03-19T13:23:22.744753Z",
     "start_time": "2025-03-19T13:23:22.660424Z"
    }
   },
   "cell_type": "code",
   "source": [
    "# Convert categorical columns to numeric using one-hot encoding\n",
    "train_data = pd.get_dummies(train_data)\n",
    "test_data = pd.get_dummies(test_data)\n",
    "\n",
    "# Ensure the training and testing datasets have the same columns\n",
    "train_data, test_data = train_data.align(test_data, join='left', axis=1, fill_value=0)\n"
   ],
   "id": "c4dc3ff2e255ed65",
   "outputs": [],
   "execution_count": 6
  },
  {
   "metadata": {
    "ExecuteTime": {
     "end_time": "2025-03-19T13:24:48.559493Z",
     "start_time": "2025-03-19T13:24:48.542861Z"
    }
   },
   "cell_type": "code",
   "source": [
    "# Check the first few rows of the training and testing data to understand the structure\n",
    "print(\"Training Data:\")\n",
    "print(train_data.head())\n",
    "\n",
    "print(\"\\nTesting Data:\")\n",
    "print(test_data.head())\n"
   ],
   "id": "bb795b7a06f0c4c4",
   "outputs": [
    {
     "name": "stdout",
     "output_type": "stream",
     "text": [
      "Training Data:\n",
      "        dur  spkts  dpkts  sbytes  dbytes       rate         sload  \\\n",
      "0  0.121478      6      4     258     172  74.087486  14158.942383   \n",
      "1  0.649902     14     38     734   42014  78.473373   8395.112305   \n",
      "2  1.623129      8     16     364   13186  14.170161   1572.271851   \n",
      "3  1.681642     12     12     628     770  13.677108   2740.178955   \n",
      "4  0.449454     10      6     534     268  33.373825   8561.499023   \n",
      "\n",
      "           dload  sloss  dloss  ...  attack_cat_Analysis  attack_cat_Backdoor  \\\n",
      "0    8495.365234      0      0  ...                False                False   \n",
      "1  503571.312500      2     17  ...                False                False   \n",
      "2   60929.230469      1      6  ...                False                False   \n",
      "3    3358.622070      1      3  ...                False                False   \n",
      "4    3987.059814      2      1  ...                False                False   \n",
      "\n",
      "   attack_cat_DoS  attack_cat_Exploits  attack_cat_Fuzzers  \\\n",
      "0           False                False               False   \n",
      "1           False                False               False   \n",
      "2           False                False               False   \n",
      "3           False                False               False   \n",
      "4           False                False               False   \n",
      "\n",
      "   attack_cat_Generic  attack_cat_Normal  attack_cat_Reconnaissance  \\\n",
      "0               False               True                      False   \n",
      "1               False               True                      False   \n",
      "2               False               True                      False   \n",
      "3               False               True                      False   \n",
      "4               False               True                      False   \n",
      "\n",
      "   attack_cat_Shellcode  attack_cat_Worms  \n",
      "0                 False             False  \n",
      "1                 False             False  \n",
      "2                 False             False  \n",
      "3                 False             False  \n",
      "4                 False             False  \n",
      "\n",
      "[5 rows x 197 columns]\n",
      "\n",
      "Testing Data:\n",
      "        dur  spkts  dpkts  sbytes  dbytes          rate        sload  dload  \\\n",
      "0  0.000011      2      0     496       0   90909.09375  180363632.0    0.0   \n",
      "1  0.000008      2      0    1762       0  125000.00000  881000000.0    0.0   \n",
      "2  0.000005      2      0    1068       0  200000.00000  854400000.0    0.0   \n",
      "3  0.000006      2      0     900       0  166666.65625  600000000.0    0.0   \n",
      "4  0.000010      2      0    2126       0  100000.00000  850400000.0    0.0   \n",
      "\n",
      "   sloss  dloss  ...  attack_cat_Analysis  attack_cat_Backdoor  \\\n",
      "0      0      0  ...                False                False   \n",
      "1      0      0  ...                False                False   \n",
      "2      0      0  ...                False                False   \n",
      "3      0      0  ...                False                False   \n",
      "4      0      0  ...                False                False   \n",
      "\n",
      "   attack_cat_DoS  attack_cat_Exploits  attack_cat_Fuzzers  \\\n",
      "0           False                False               False   \n",
      "1           False                False               False   \n",
      "2           False                False               False   \n",
      "3           False                False               False   \n",
      "4           False                False               False   \n",
      "\n",
      "   attack_cat_Generic  attack_cat_Normal  attack_cat_Reconnaissance  \\\n",
      "0               False               True                      False   \n",
      "1               False               True                      False   \n",
      "2               False               True                      False   \n",
      "3               False               True                      False   \n",
      "4               False               True                      False   \n",
      "\n",
      "   attack_cat_Shellcode  attack_cat_Worms  \n",
      "0                 False             False  \n",
      "1                 False             False  \n",
      "2                 False             False  \n",
      "3                 False             False  \n",
      "4                 False             False  \n",
      "\n",
      "[5 rows x 197 columns]\n"
     ]
    }
   ],
   "execution_count": 7
  },
  {
   "metadata": {},
   "cell_type": "markdown",
   "source": "PREPROCESSING DATA",
   "id": "23a8442f7e1b16ee"
  },
  {
   "metadata": {
    "ExecuteTime": {
     "end_time": "2025-03-19T13:29:39.712857Z",
     "start_time": "2025-03-19T13:29:39.512032Z"
    }
   },
   "cell_type": "code",
   "source": [
    "# Check for missing values in the training and testing datasets\n",
    "print(\"\\nMissing Values in Training Data:\")\n",
    "print(train_data.isnull().sum())\n",
    "\n",
    "print(\"\\nMissing Values in Testing Data:\")\n",
    "print(test_data.isnull().sum())\n",
    "\n",
    "# Check the columns in the dataset\n",
    "print(\"\\nColumns in Training Data:\")\n",
    "print(train_data.columns)\n",
    "\n",
    "# Display basic stats for the numerical columns\n",
    "print(\"\\nTraining Data Summary:\")\n",
    "print(train_data.describe())\n"
   ],
   "id": "ba4a7a83c3a53f52",
   "outputs": [
    {
     "name": "stdout",
     "output_type": "stream",
     "text": [
      "\n",
      "Missing Values in Training Data:\n",
      "dur                          0\n",
      "spkts                        0\n",
      "dpkts                        0\n",
      "sbytes                       0\n",
      "dbytes                       0\n",
      "                            ..\n",
      "attack_cat_Generic           0\n",
      "attack_cat_Normal            0\n",
      "attack_cat_Reconnaissance    0\n",
      "attack_cat_Shellcode         0\n",
      "attack_cat_Worms             0\n",
      "Length: 197, dtype: int64\n",
      "\n",
      "Missing Values in Testing Data:\n",
      "dur                          0\n",
      "spkts                        0\n",
      "dpkts                        0\n",
      "sbytes                       0\n",
      "dbytes                       0\n",
      "                            ..\n",
      "attack_cat_Generic           0\n",
      "attack_cat_Normal            0\n",
      "attack_cat_Reconnaissance    0\n",
      "attack_cat_Shellcode         0\n",
      "attack_cat_Worms             0\n",
      "Length: 197, dtype: int64\n",
      "\n",
      "Columns in Training Data:\n",
      "Index(['dur', 'spkts', 'dpkts', 'sbytes', 'dbytes', 'rate', 'sload', 'dload',\n",
      "       'sloss', 'dloss',\n",
      "       ...\n",
      "       'attack_cat_Analysis', 'attack_cat_Backdoor', 'attack_cat_DoS',\n",
      "       'attack_cat_Exploits', 'attack_cat_Fuzzers', 'attack_cat_Generic',\n",
      "       'attack_cat_Normal', 'attack_cat_Reconnaissance',\n",
      "       'attack_cat_Shellcode', 'attack_cat_Worms'],\n",
      "      dtype='object', length=197)\n",
      "\n",
      "Training Data Summary:\n",
      "                 dur          spkts          dpkts        sbytes  \\\n",
      "count  175341.000000  175341.000000  175341.000000  1.753410e+05   \n",
      "mean        1.359389      20.298664      18.969591  8.844844e+03   \n",
      "std         6.480249     136.887597     110.258271  1.747656e+05   \n",
      "min         0.000000       1.000000       0.000000  2.800000e+01   \n",
      "25%         0.000008       2.000000       0.000000  1.140000e+02   \n",
      "50%         0.001582       2.000000       2.000000  4.300000e+02   \n",
      "75%         0.668069      12.000000      10.000000  1.418000e+03   \n",
      "max        59.999989    9616.000000   10974.000000  1.296523e+07   \n",
      "\n",
      "             dbytes            rate         sload         dload  \\\n",
      "count  1.753410e+05   175341.000000  1.753410e+05  1.753410e+05   \n",
      "mean   1.492892e+04    95406.179688  7.345403e+07  6.712055e+05   \n",
      "std    1.436542e+05   165400.968750  1.883574e+08  2.421312e+06   \n",
      "min    0.000000e+00        0.000000  0.000000e+00  0.000000e+00   \n",
      "25%    0.000000e+00       32.786140  1.305334e+04  0.000000e+00   \n",
      "50%    1.640000e+02     3225.806641  8.796748e+05  1.447023e+03   \n",
      "75%    1.102000e+03   125000.000000  8.888889e+07  2.784487e+04   \n",
      "max    1.465555e+07  1000000.000000  5.988000e+09  2.242273e+07   \n",
      "\n",
      "               sloss          dloss  ...          dmean    trans_depth  \\\n",
      "count  175341.000000  175341.000000  ...  175341.000000  175341.000000   \n",
      "mean        4.953000       6.948010  ...     124.173382       0.105982   \n",
      "std        66.005059      52.732999  ...     258.317056       0.776911   \n",
      "min         0.000000       0.000000  ...       0.000000       0.000000   \n",
      "25%         0.000000       0.000000  ...       0.000000       0.000000   \n",
      "50%         0.000000       0.000000  ...      44.000000       0.000000   \n",
      "75%         3.000000       2.000000  ...      89.000000       0.000000   \n",
      "max      4803.000000    5484.000000  ...    1458.000000     172.000000   \n",
      "\n",
      "       response_body_len  ct_src_dport_ltm  ct_dst_sport_ltm   is_ftp_login  \\\n",
      "count       1.753410e+05     175341.000000     175341.000000  175341.000000   \n",
      "mean        2.144292e+03          5.383538          4.206255       0.014948   \n",
      "std         5.420797e+04          8.047104          5.783585       0.126048   \n",
      "min         0.000000e+00          1.000000          1.000000       0.000000   \n",
      "25%         0.000000e+00          1.000000          1.000000       0.000000   \n",
      "50%         0.000000e+00          1.000000          1.000000       0.000000   \n",
      "75%         0.000000e+00          5.000000          3.000000       0.000000   \n",
      "max         6.558056e+06         51.000000         46.000000       4.000000   \n",
      "\n",
      "          ct_ftp_cmd  ct_flw_http_mthd  is_sm_ips_ports          label  \n",
      "count  175341.000000     175341.000000    175341.000000  175341.000000  \n",
      "mean        0.014948          0.133066         0.015752       0.680622  \n",
      "std         0.126048          0.701208         0.124516       0.466237  \n",
      "min         0.000000          0.000000         0.000000       0.000000  \n",
      "25%         0.000000          0.000000         0.000000       0.000000  \n",
      "50%         0.000000          0.000000         0.000000       1.000000  \n",
      "75%         0.000000          0.000000         0.000000       1.000000  \n",
      "max         4.000000         30.000000         1.000000       1.000000  \n",
      "\n",
      "[8 rows x 32 columns]\n"
     ]
    }
   ],
   "execution_count": 9
  },
  {
   "metadata": {
    "ExecuteTime": {
     "end_time": "2025-03-19T13:30:05.189406Z",
     "start_time": "2025-03-19T13:30:05.108647Z"
    }
   },
   "cell_type": "code",
   "source": [
    "# Drop rows with missing values (if any)\n",
    "train_data = train_data.dropna()\n",
    "test_data = test_data.dropna()\n",
    "\n",
    "# Alternatively, you can fill missing values with the median (or other strategies)\n",
    "# train_data = train_data.fillna(train_data.median())\n",
    "# test_data = test_data.fillna(test_data.median())\n"
   ],
   "id": "e3295ce210981904",
   "outputs": [],
   "execution_count": 10
  },
  {
   "metadata": {
    "ExecuteTime": {
     "end_time": "2025-03-19T13:30:15.400947Z",
     "start_time": "2025-03-19T13:30:15.298091Z"
    }
   },
   "cell_type": "code",
   "source": [
    "# Apply One-Hot Encoding to categorical features (if applicable)\n",
    "train_data = pd.get_dummies(train_data)\n",
    "test_data = pd.get_dummies(test_data)\n",
    "\n",
    "# Ensure that the train and test data have the same columns (important)\n",
    "train_data, test_data = train_data.align(test_data, join='left', axis=1, fill_value=0)\n"
   ],
   "id": "d6f27b68d542d1d1",
   "outputs": [],
   "execution_count": 11
  },
  {
   "metadata": {},
   "cell_type": "markdown",
   "source": "FEATURE ENGINEERING",
   "id": "e6e4f836c08c91e3"
  },
  {
   "metadata": {
    "ExecuteTime": {
     "end_time": "2025-03-19T13:30:56.736133Z",
     "start_time": "2025-03-19T13:30:56.720574Z"
    }
   },
   "cell_type": "code",
   "source": [
    "# Create new features based on existing columns\n",
    "train_data['bytes_ratio'] = train_data['sbytes'] / train_data['dbytes']\n",
    "test_data['bytes_ratio'] = test_data['sbytes'] / test_data['dbytes']\n",
    "\n",
    "train_data['pkt_ratio'] = train_data['spkts'] / train_data['dpkts']\n",
    "test_data['pkt_ratio'] = test_data['spkts'] / test_data['dpkts']\n"
   ],
   "id": "571e7f81a0a77e37",
   "outputs": [],
   "execution_count": 12
  },
  {
   "metadata": {
    "ExecuteTime": {
     "end_time": "2025-03-19T13:33:01.400815Z",
     "start_time": "2025-03-19T13:33:01.378741Z"
    }
   },
   "cell_type": "code",
   "source": [
    "# Check for NaN or infinite values in the training data\n",
    "print(\"Checking for NaN and Infinity values in the training data:\")\n",
    "print(train_data[numerical_cols].isna().sum())  # Check for NaN values\n",
    "print((train_data[numerical_cols] == float('inf')).sum())  # Check for Inf values\n",
    "\n",
    "# Check for NaN or infinite values in the testing data\n",
    "print(\"\\nChecking for NaN and Infinity values in the testing data:\")\n",
    "print(test_data[numerical_cols].isna().sum())  # Check for NaN values\n",
    "print((test_data[numerical_cols] == float('inf')).sum())  # Check for Inf values\n"
   ],
   "id": "93688cec99d45d89",
   "outputs": [
    {
     "name": "stdout",
     "output_type": "stream",
     "text": [
      "Checking for NaN and Infinity values in the training data:\n",
      "stcpb          0\n",
      "dtcpb          0\n",
      "bytes_ratio    0\n",
      "pkt_ratio      0\n",
      "dtype: int64\n",
      "stcpb              0\n",
      "dtcpb              0\n",
      "bytes_ratio    84282\n",
      "pkt_ratio      84282\n",
      "dtype: int64\n",
      "\n",
      "Checking for NaN and Infinity values in the testing data:\n",
      "stcpb          0\n",
      "dtcpb          0\n",
      "bytes_ratio    0\n",
      "pkt_ratio      0\n",
      "dtype: int64\n",
      "stcpb              0\n",
      "dtcpb              0\n",
      "bytes_ratio    36006\n",
      "pkt_ratio      36006\n",
      "dtype: int64\n"
     ]
    }
   ],
   "execution_count": 14
  },
  {
   "metadata": {
    "ExecuteTime": {
     "end_time": "2025-03-19T13:35:27.099482Z",
     "start_time": "2025-03-19T13:35:27.053465Z"
    }
   },
   "cell_type": "code",
   "source": [
    "# Replace NaN values with the median of the column\n",
    "train_data[numerical_cols] = train_data[numerical_cols].fillna(train_data[numerical_cols].median())\n",
    "test_data[numerical_cols] = test_data[numerical_cols].fillna(test_data[numerical_cols].median())\n",
    "\n",
    "# Replace infinite values with the maximum value of the respective column\n",
    "for col in numerical_cols:\n",
    "    # Get the maximum value of the column and replace infinities with that value\n",
    "    max_value = train_data[col].max()\n",
    "\n",
    "    # Replace infinite values with the column's max value in both train and test data\n",
    "    train_data[col] = train_data[col].replace([float('inf'), -float('inf')], max_value)\n",
    "    test_data[col] = test_data[col].replace([float('inf'), -float('inf')], max_value)\n"
   ],
   "id": "31af93c9ef0151fd",
   "outputs": [],
   "execution_count": 16
  },
  {
   "metadata": {
    "ExecuteTime": {
     "end_time": "2025-03-19T13:40:21.797167Z",
     "start_time": "2025-03-19T13:40:21.729534Z"
    }
   },
   "cell_type": "code",
   "source": [
    "import numpy as np\n",
    "\n",
    "# Check for infinite values in the training data\n",
    "print(\"Checking for Infinite values in the training data:\")\n",
    "print(np.isinf(train_data).sum())  # Count the number of infinite values in each column\n",
    "\n",
    "# Check for infinite values in the testing data\n",
    "print(\"\\nChecking for Infinite values in the testing data:\")\n",
    "print(np.isinf(test_data).sum())  # Count the number of infinite values in each column\n",
    "\n",
    "# Check for very large values (e.g., values greater than a specified threshold)\n",
    "threshold = 1e6  # Define a threshold for large values\n",
    "large_values_train = (train_data[numerical_cols] > threshold).sum()\n",
    "large_values_test = (test_data[numerical_cols] > threshold).sum()\n",
    "\n",
    "print(\"\\nLarge values in the training data:\")\n",
    "print(large_values_train)\n",
    "\n",
    "print(\"\\nLarge values in the testing data:\")\n",
    "print(large_values_test)\n"
   ],
   "id": "bdfb6ec60b9d8e6",
   "outputs": [
    {
     "name": "stdout",
     "output_type": "stream",
     "text": [
      "Checking for Infinite values in the training data:\n",
      "dur                              0\n",
      "spkts                            0\n",
      "dpkts                            0\n",
      "sbytes                           0\n",
      "dbytes                           0\n",
      "                             ...  \n",
      "attack_cat_Reconnaissance        0\n",
      "attack_cat_Shellcode             0\n",
      "attack_cat_Worms                 0\n",
      "bytes_ratio                  84282\n",
      "pkt_ratio                    84282\n",
      "Length: 199, dtype: int64\n",
      "\n",
      "Checking for Infinite values in the testing data:\n",
      "dur                              0\n",
      "spkts                            0\n",
      "dpkts                            0\n",
      "sbytes                           0\n",
      "dbytes                           0\n",
      "                             ...  \n",
      "attack_cat_Reconnaissance        0\n",
      "attack_cat_Shellcode             0\n",
      "attack_cat_Worms                 0\n",
      "bytes_ratio                  36006\n",
      "pkt_ratio                    36006\n",
      "Length: 199, dtype: int64\n",
      "\n",
      "Large values in the training data:\n",
      "stcpb          79083\n",
      "dtcpb          79056\n",
      "bytes_ratio    84282\n",
      "pkt_ratio      84282\n",
      "dtype: int64\n",
      "\n",
      "Large values in the testing data:\n",
      "stcpb          41444\n",
      "dtcpb          41432\n",
      "bytes_ratio    36006\n",
      "pkt_ratio      36006\n",
      "dtype: int64\n"
     ]
    }
   ],
   "execution_count": 18
  },
  {
   "metadata": {
    "ExecuteTime": {
     "end_time": "2025-03-19T13:40:37.779070Z",
     "start_time": "2025-03-19T13:40:37.735541Z"
    }
   },
   "cell_type": "code",
   "source": [
    "# Replace infinite values with the max value of the respective column\n",
    "for col in numerical_cols:\n",
    "    max_value = train_data[col].max()  # Get the max value for the column\n",
    "    train_data[col] = train_data[col].replace([float('inf'), -float('inf')], max_value)\n",
    "    test_data[col] = test_data[col].replace([float('inf'), -float('inf')], max_value)\n",
    "\n",
    "# Replace values greater than a threshold with the threshold value (cap values)\n",
    "train_data[numerical_cols] = train_data[numerical_cols].clip(upper=threshold)\n",
    "test_data[numerical_cols] = test_data[numerical_cols].clip(upper=threshold)\n"
   ],
   "id": "eb79e5bdb852e197",
   "outputs": [],
   "execution_count": 19
  },
  {
   "metadata": {
    "ExecuteTime": {
     "end_time": "2025-03-19T13:40:48.233140Z",
     "start_time": "2025-03-19T13:40:48.208341Z"
    }
   },
   "cell_type": "code",
   "source": [
    "from sklearn.preprocessing import StandardScaler\n",
    "\n",
    "# Apply scaling to the cleaned numerical columns\n",
    "scaler = StandardScaler()\n",
    "\n",
    "train_data[numerical_cols] = scaler.fit_transform(train_data[numerical_cols])\n",
    "test_data[numerical_cols] = scaler.transform(test_data[numerical_cols])\n"
   ],
   "id": "6b8e1fda627d23df",
   "outputs": [],
   "execution_count": 20
  },
  {
   "metadata": {
    "ExecuteTime": {
     "end_time": "2025-03-19T13:41:25.261497Z",
     "start_time": "2025-03-19T13:41:13.077899Z"
    }
   },
   "cell_type": "code",
   "source": [
    "# Prepare features and target\n",
    "X_train = train_data.drop(columns='attack_cat_Analysis')  # Adjust column name accordingly\n",
    "y_train = train_data['attack_cat_Analysis']\n",
    "\n",
    "X_test = test_data.drop(columns='attack_cat_Analysis')\n",
    "y_test = test_data['attack_cat_Analysis']\n",
    "\n",
    "# Train the model\n",
    "rf_model = RandomForestClassifier(n_estimators=100, random_state=42)\n",
    "rf_model.fit(X_train, y_train)\n",
    "\n",
    "# Make predictions\n",
    "y_pred = rf_model.predict(X_test)\n",
    "\n",
    "# Evaluate the model's performance\n",
    "print(\"Classification Report:\")\n",
    "print(classification_report(y_test, y_pred))\n",
    "\n",
    "print(\"Confusion Matrix:\")\n",
    "print(confusion_matrix(y_test, y_pred))\n"
   ],
   "id": "2e027ba23e0bd511",
   "outputs": [
    {
     "name": "stdout",
     "output_type": "stream",
     "text": [
      "Classification Report:\n",
      "              precision    recall  f1-score   support\n",
      "\n",
      "       False       1.00      1.00      1.00     81655\n",
      "        True       0.99      0.90      0.94       677\n",
      "\n",
      "    accuracy                           1.00     82332\n",
      "   macro avg       0.99      0.95      0.97     82332\n",
      "weighted avg       1.00      1.00      1.00     82332\n",
      "\n",
      "Confusion Matrix:\n",
      "[[81647     8]\n",
      " [   65   612]]\n"
     ]
    }
   ],
   "execution_count": 21
  },
  {
   "metadata": {
    "ExecuteTime": {
     "end_time": "2025-03-19T14:02:07.358719Z",
     "start_time": "2025-03-19T14:02:05.834140Z"
    }
   },
   "cell_type": "code",
   "source": [
    "import matplotlib.pyplot as plt\n",
    "\n",
    "# Get feature importances\n",
    "feature_importances = rf_model.feature_importances_\n",
    "\n",
    "# Get the column names (features)\n",
    "features = X_train.columns\n",
    "\n",
    "# Plot the feature importances\n",
    "plt.figure(figsize=(10, 6))\n",
    "plt.barh(features, feature_importances, color='skyblue')\n",
    "plt.xlabel('Feature Importance')\n",
    "plt.ylabel('Features')\n",
    "plt.title('Feature Importances in Random Forest')\n",
    "plt.show()\n"
   ],
   "id": "e961f049e96cd7a",
   "outputs": [
    {
     "data": {
      "text/plain": [
       "<Figure size 1000x600 with 1 Axes>"
      ],
      "image/png": "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"
     },
     "metadata": {},
     "output_type": "display_data"
    }
   ],
   "execution_count": 25
  }
 ],
 "metadata": {
  "kernelspec": {
   "display_name": "Python 3",
   "language": "python",
   "name": "python3"
  },
  "language_info": {
   "codemirror_mode": {
    "name": "ipython",
    "version": 2
   },
   "file_extension": ".py",
   "mimetype": "text/x-python",
   "name": "python",
   "nbconvert_exporter": "python",
   "pygments_lexer": "ipython2",
   "version": "2.7.6"
  }
 },
 "nbformat": 4,
 "nbformat_minor": 5
}
// Hyperparameter Tuning

from sklearn.ensemble import RandomForestClassifier
from sklearn.model_selection import GridSearchCV
from sklearn.metrics import classification_report, confusion_matrix

# Define the hyperparameter grid
param_grid = {
    'n_estimators': [100, 200],
    'max_depth': [10, 20, None],
    'min_samples_split': [2, 5, 10],
    'min_samples_leaf': [1, 2, 4],
    'max_features': ['sqrt', 'log2']
}

# Initialize RandomForestClassifier
rf = RandomForestClassifier(random_state=42)

# Set up GridSearchCV
grid_search = GridSearchCV(estimator=rf,
                           param_grid=param_grid,
                           cv=3,  # 3-fold cross-validation
                           n_jobs=-1,  # Use all CPU cores
                           verbose=2,
                           scoring='f1_macro')  # Or 'accuracy', 'recall_macro' as per priority

# Fit GridSearchCV
grid_search.fit(X_train, y_train)

# Best hyperparameters
print("Best Parameters Found:")
print(grid_search.best_params_)

# Evaluate the tuned model
best_rf_model = grid_search.best_estimator_
y_pred = best_rf_model.predict(X_test)

print("Classification Report:")
print(classification_report(y_test, y_pred))

print("Confusion Matrix:")
print(confusion_matrix(y_test, y_pred))

//Ensemble Learning
#%%
from sklearn.ensemble import VotingClassifier
from sklearn.linear_model import LogisticRegression
from sklearn.tree import DecisionTreeClassifier
from sklearn.ensemble import RandomForestClassifier
from sklearn.metrics import classification_report, confusion_matrix

# Base classifiers
rf = RandomForestClassifier(**grid_search.best_params_, random_state=42)  # from earlier tuning
lr = LogisticRegression(max_iter=1000, random_state=42)
dt = DecisionTreeClassifier(random_state=42)

# Voting classifier (hard voting)
voting_clf = VotingClassifier(estimators=[
    ('rf', rf),
    ('lr', lr),
    ('dt', dt)
], voting='hard', n_jobs=-1)

# Fit the ensemble model
voting_clf.fit(X_train, y_train)

# Predict
y_pred_voting = voting_clf.predict(X_test)

# Evaluate
print("Voting Classifier (Hard) Report:")
print(classification_report(y_test, y_pred_voting))

print("Confusion Matrix:")
print(confusion_matrix(y_test, y_pred_voting))

